{
  "nbformat": 4,
  "nbformat_minor": 0,
  "metadata": {
    "colab": {
      "provenance": []
    },
    "kernelspec": {
      "name": "python3",
      "display_name": "Python 3"
    },
    "language_info": {
      "name": "python"
    }
  },
  "cells": [
    {
      "cell_type": "code",
      "execution_count": 5,
      "metadata": {
        "colab": {
          "base_uri": "https://localhost:8080/"
        },
        "id": "FyscChUO42Mj",
        "outputId": "ee89478c-8c37-45f1-c972-b8a2f52049b2"
      },
      "outputs": [
        {
          "output_type": "stream",
          "name": "stdout",
          "text": [
            "                                     ID    TaxID      Reference\n",
            "0  863b9337-17cd-5586-2079-4ce3dfe7ad31  1671923  NZ_CP085939.1\n",
            "1  cdab274b-d4c4-73a6-1282-5cffe9311fcb  1671923  NZ_CP085939.1\n",
            "2  94395a2f-ee29-1589-2b32-c5e4a90828e9  1671923  NZ_CP085939.1\n",
            "3  800de6ec-2570-d9e3-7492-3e8ff3ebce0a  1671923  NZ_CP085939.1\n",
            "4  922490a6-bc3a-d2ce-e61c-3b4fd3aca102  1671923  NZ_CP085939.1\n"
          ]
        }
      ],
      "source": [
        "import pandas as pd\n",
        "\n",
        "file_path = '2bac4strain.txt'\n",
        "df = pd.read_csv(file_path, sep='\\t', header=None, names=['ID', 'Kraken Info'])\n",
        "df[['Prefix', 'TaxID', 'Reference']] = df['Kraken Info'].str.split('|', expand=True)\n",
        "df.drop(columns=['Kraken Info', 'Prefix'], inplace=True)\n",
        "print(df.head())\n"
      ]
    },
    {
      "cell_type": "code",
      "source": [
        "taxid_counts = df['TaxID'].value_counts()\n",
        "\n",
        "print(taxid_counts)"
      ],
      "metadata": {
        "colab": {
          "base_uri": "https://localhost:8080/"
        },
        "id": "EmSNezKv5jC9",
        "outputId": "dd3759fb-2009-45a2-88ec-f3596b03b692"
      },
      "execution_count": 6,
      "outputs": [
        {
          "output_type": "stream",
          "name": "stdout",
          "text": [
            "TaxID\n",
            "1384484    1965\n",
            "394340     1933\n",
            "862970     1165\n",
            "1328        911\n",
            "1671923     415\n",
            "Name: count, dtype: int64\n"
          ]
        }
      ]
    },
    {
      "cell_type": "markdown",
      "source": [
        "Correct would be:    \n",
        "1384484     -  1971     \n",
        "394340    -  1973   \n",
        "862970    -  1292     \n",
        "1671923   -  1218    "
      ],
      "metadata": {
        "id": "21e8uSZJ6FQD"
      }
    }
  ]
}