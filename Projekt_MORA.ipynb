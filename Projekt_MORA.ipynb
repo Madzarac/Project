{
  "nbformat": 4,
  "nbformat_minor": 0,
  "metadata": {
    "colab": {
      "provenance": []
    },
    "kernelspec": {
      "name": "python3",
      "display_name": "Python 3"
    },
    "language_info": {
      "name": "python"
    }
  },
  "cells": [
    {
      "cell_type": "markdown",
      "source": [],
      "metadata": {
        "id": "OrAnqQkYQ7bc"
      }
    },
    {
      "cell_type": "code",
      "source": [
        "from google.colab import drive\n",
        "drive.mount('/content/drive')"
      ],
      "metadata": {
        "colab": {
          "base_uri": "https://localhost:8080/"
        },
        "id": "OkaUW_Mg8O-M",
        "outputId": "da2e2823-a9e9-4f77-ed2a-ba84c7b32b36"
      },
      "execution_count": 2,
      "outputs": [
        {
          "output_type": "stream",
          "name": "stdout",
          "text": [
            "Mounted at /content/drive\n"
          ]
        }
      ]
    },
    {
      "cell_type": "code",
      "source": [
        "\n",
        "!pip install pysam\n"
      ],
      "metadata": {
        "id": "b8G0t3sGLPLM",
        "colab": {
          "base_uri": "https://localhost:8080/"
        },
        "outputId": "dd9ac800-1313-4317-e78c-046460e51f11"
      },
      "execution_count": 3,
      "outputs": [
        {
          "output_type": "stream",
          "name": "stdout",
          "text": [
            "Collecting pysam\n",
            "  Downloading pysam-0.22.1-cp310-cp310-manylinux_2_28_x86_64.whl.metadata (1.5 kB)\n",
            "Downloading pysam-0.22.1-cp310-cp310-manylinux_2_28_x86_64.whl (22.0 MB)\n",
            "\u001b[2K   \u001b[90m━━━━━━━━━━━━━━━━━━━━━━━━━━━━━━━━━━━━━━━━\u001b[0m \u001b[32m22.0/22.0 MB\u001b[0m \u001b[31m44.3 MB/s\u001b[0m eta \u001b[36m0:00:00\u001b[0m\n",
            "\u001b[?25hInstalling collected packages: pysam\n",
            "Successfully installed pysam-0.22.1\n"
          ]
        }
      ]
    },
    {
      "cell_type": "code",
      "execution_count": 4,
      "metadata": {
        "colab": {
          "base_uri": "https://localhost:8080/"
        },
        "id": "D6BUfyJFQ1sb",
        "outputId": "5381a3e1-5d8d-4935-a09d-e2293af6517f"
      },
      "outputs": [
        {
          "output_type": "stream",
          "name": "stdout",
          "text": [
            "@SQ\tSN:CHROMOSOME_I\tLN:15072423\n",
            "@SQ\tSN:CHROMOSOME_II\tLN:15279345\n",
            "@SQ\tSN:CHROMOSOME_III\tLN:13783700\n",
            "@SQ\tSN:CHROMOSOME_IV\tLN:17493793\n",
            "@SQ\tSN:CHROMOSOME_V\tLN:20924149\n",
            "\n",
            "I\t20\t*\t2\t1\t27M1D73M\t*\t0\t0\tCCTAGCCCTAACCCTAACCCTAACCCTAGCCTAAGCCTAAGCCTAAGCCTAAGCCTAAGCCTAAGCCTAAGCCTAAGCCTAAGCCTAAGCCTAAGCCTAA\tarray('B', [2, 2, 2, 2, 2, 2, 2, 2, 2, 2, 2, 2, 2, 2, 2, 2, 2, 2, 2, 2, 2, 2, 2, 2, 2, 2, 2, 2, 2, 31, 33, 30, 23, 33, 30, 33, 32, 31, 31, 35, 35, 33, 34, 35, 35, 34, 33, 34, 31, 34, 35, 34, 35, 34, 34, 34, 34, 34, 34, 34, 34, 34, 34, 34, 34, 34, 34, 34, 34, 34, 34, 34, 34, 34, 34, 34, 34, 34, 34, 34, 34, 34, 34, 34, 34, 34, 34, 34, 34, 34, 34, 34, 34, 34, 34, 34, 34, 34, 34, 34])\t[('XG', 1), ('XM', 5), ('XN', 0), ('XO', 1), ('XS', -18), ('AS', 180), ('YT', 'UU')]\n"
          ]
        }
      ],
      "source": [
        "# prompt: load a sam file\n",
        "\n",
        "\n",
        "import pysam\n",
        "\n",
        "samfile = pysam.AlignmentFile(\"/content/drive/My Drive/Colab Notebooks/test.sam\", \"r\")\n",
        "\n",
        "header = samfile.header\n",
        "print(header)\n",
        "\n",
        "for read in samfile:\n",
        "    print(read)\n",
        "    break\n",
        "\n",
        "\n",
        "\n",
        "# Remember to close the file when you're done\n",
        "#samfile.close()"
      ]
    },
    {
      "cell_type": "markdown",
      "source": [
        "We define mapping score as some positive value associated to each alignment that\n",
        " measures how good the alignment is. In practice, we use the AS:i secondary flag"
      ],
      "metadata": {
        "id": "eh1H9Pa59k6y"
      }
    },
    {
      "cell_type": "markdown",
      "source": [
        "1. isfiltrirati neporavnana ocitanja, ona se na kraju ponovo samo nadodaju u reportu (FLAG = 4)"
      ],
      "metadata": {
        "id": "N9bcrm8H-CWk"
      }
    },
    {
      "cell_type": "code",
      "source": [
        "filtered_sam = \"\"\n",
        "no_alignment = \"\"\n",
        "\n",
        "for read in samfile:\n",
        "    if read.flag != 4:\n",
        "        filtered_sam += str(read) + \"\\n\"\n",
        "    else:\n",
        "        no_alignment += str(read.query_name) + \"NO ALIGNMENT\" + \"\\n\"\n",
        "\n",
        "#print(no_alignment)"
      ],
      "metadata": {
        "id": "LEhYJnGwQ6b7"
      },
      "execution_count": 5,
      "outputs": []
    },
    {
      "cell_type": "code",
      "source": [
        "samfile.close()"
      ],
      "metadata": {
        "id": "ZrzhZ7ZHmtYK"
      },
      "execution_count": 6,
      "outputs": []
    },
    {
      "cell_type": "markdown",
      "source": [
        "@SQ Reference sequence dictionary. The order of @SQ lines defines the alignment sorting order.    \n",
        "\n",
        "SN: Reference sequence name. The SN tags and all individual AN names in all @SQ lines must be distinct.\n",
        "LN: Reference sequence length.   \n",
        "\n",
        "@PG: Program"
      ],
      "metadata": {
        "id": "u1l9gtzeOJlt"
      }
    },
    {
      "cell_type": "markdown",
      "source": [
        "EM algoritam za Abundance estimation"
      ],
      "metadata": {
        "id": "tbgldtZRvAO4"
      }
    },
    {
      "cell_type": "code",
      "source": [
        "import numpy as np\n",
        "from collections import defaultdict\n",
        "\n",
        "class AbundanceEstimator:\n",
        "    def __init__(self, sam_file):\n",
        "        \"\"\"\n",
        "        Initialize the estimator by parsing the SAM file.\n",
        "        :param sam_file: Path to the SAM file containing alignment information.\n",
        "        \"\"\"\n",
        "        self.references = {}  # {reference_name: reference_length (LN)}\n",
        "        self.read_assignments = defaultdict(list)  # {read_id: [(reference_name, mapping_score (AS))]}\n",
        "        self.strain_abundance = {}  # {reference_name: initial abundance estimate}\n",
        "        self.strain_coverage = {}  # {reference_name: coverage fraction}\n",
        "\n",
        "        self._parse_sam_file(sam_file)\n",
        "        self._initialize_abundances()\n",
        "\n",
        "    def _parse_sam_file(self, sam_file):\n",
        "        \"\"\"\n",
        "        Parse the SAM file to extract reference lengths (from @SQ) and read mappings (AS field).\n",
        "        \"\"\"\n",
        "        samfile = pysam.AlignmentFile(sam_file, \"r\")\n",
        "\n",
        "        #header\n",
        "        for ref_info in samfile.header['SQ']:\n",
        "            ref_name = ref_info['SN']\n",
        "            ref_len = ref_info['LN']\n",
        "            self.references[ref_name] = ref_len\n",
        "\n",
        "        # Obrada očitanja\n",
        "        for read in samfile:\n",
        "            read_id = read.query_name\n",
        "            ref_name = read.reference_name\n",
        "            if read.flag != 4:\n",
        "              if ref_name != None:  # Provjera da očitanje nije nemapirano\n",
        "                  as_field = read.get_tag('AS') if read.has_tag('AS') else 0\n",
        "                  if as_field > 0:  # Razmatraj samo mapirana očitanja sa pozitivnim AS poljem\n",
        "                      if read_id not in self.read_assignments:\n",
        "                          self.read_assignments[read_id] = []\n",
        "                      self.read_assignments[read_id].append((ref_name, as_field))\n",
        "\n",
        "        # Zatvaranje SAM datoteke\n",
        "        samfile.close()\n",
        "\n",
        "    def _initialize_abundances(self):\n",
        "        \"\"\"\n",
        "        Compute initial abundance estimates based on mapping scores and reference lengths.\n",
        "        \"\"\"\n",
        "        strain_scores = defaultdict(float)\n",
        "\n",
        "        for read_id, mappings in self.read_assignments.items():\n",
        "            total_score = sum(score for _, score in mappings)\n",
        "            for ref_name, score in mappings:\n",
        "                ref_len = self.references[ref_name]\n",
        "                likelihood = score / ref_len  # Normalize by reference length\n",
        "                strain_scores[ref_name] += likelihood / total_score\n",
        "\n",
        "        # Normalize abundances to sum to 1\n",
        "        total_abundance = sum(strain_scores.values())\n",
        "        for ref_name, score in strain_scores.items():\n",
        "            self.strain_abundance[ref_name] = score / total_abundance\n",
        "            self.strain_coverage[ref_name] = strain_scores[ref_name] / total_abundance\n",
        "\n",
        "    def em_algorithm(self, max_iter=300, eps=1e-3, min_abundance=0.1):\n",
        "        \"\"\"\n",
        "        Run the EM algorithm to refine strain abundances.\n",
        "        \"\"\"\n",
        "        strain_ids = list(self.strain_abundance.keys())\n",
        "        new_abundance = {strain: 0.0 for strain in strain_ids}\n",
        "        valid_strains = {strain: True for strain in strain_ids}\n",
        "\n",
        "        for iteration in range(max_iter):\n",
        "            # M-korak: Update strain counts using mappings\n",
        "            for strain in new_abundance:\n",
        "                new_abundance[strain] = 0.0\n",
        "\n",
        "            for read_id, mappings in self.read_assignments.items():\n",
        "                total_prob = 0.0\n",
        "                probs = []\n",
        "\n",
        "                for ref_name, score in mappings:\n",
        "                    if valid_strains[ref_name]:\n",
        "                        prob = score * self.strain_abundance[ref_name] * self.strain_coverage[ref_name]\n",
        "                        probs.append((ref_name, prob))\n",
        "                        total_prob += prob\n",
        "\n",
        "                if total_prob > 0:\n",
        "                    for ref_name, prob in probs:\n",
        "                        new_abundance[ref_name] += prob / total_prob\n",
        "\n",
        "            # E-korak: Normalize and check for convergence\n",
        "            total_abundance = sum(new_abundance.values())\n",
        "            max_diff = 0.0\n",
        "            converged = True\n",
        "\n",
        "            for strain in self.strain_abundance:\n",
        "                if valid_strains[strain]:\n",
        "                    diff = abs(new_abundance[strain] / total_abundance - self.strain_abundance[strain])\n",
        "                    max_diff = max(max_diff, diff)\n",
        "                    if diff > eps:\n",
        "                        converged = False\n",
        "                    self.strain_abundance[strain] = new_abundance[strain] / total_abundance\n",
        "\n",
        "            #print(f\"Iteration {iteration + 1}: max_diff = {max_diff}\")\n",
        "\n",
        "            if iteration % 10 == 0:\n",
        "                self.apply_set_cover(valid_strains, min_abundance)\n",
        "\n",
        "            if converged:\n",
        "                break\n",
        "\n",
        "    def apply_set_cover(self, valid_strains, min_abundance):\n",
        "        \"\"\"\n",
        "        Reduce valid strains using a set cover heuristic.\n",
        "        \"\"\"\n",
        "        removable_strains = {strain for strain, abundance in self.strain_abundance.items()\n",
        "                             if valid_strains[strain] and abundance < min_abundance}\n",
        "\n",
        "        # Prevent removing unique strains\n",
        "        for read_id, mappings in self.read_assignments.items():\n",
        "            unique_strains = {ref_name for ref_name, _ in mappings if valid_strains[ref_name]}\n",
        "            if len(unique_strains) == 1:\n",
        "                removable_strains.discard(next(iter(unique_strains)))\n",
        "\n",
        "        for strain in removable_strains:\n",
        "            valid_strains[strain] = False\n",
        "\n",
        "        #print(f\"Set cover reduction applied. Valid strains: {sum(valid_strains.values())}\")\n",
        "\n",
        "\n",
        "no_alignment = \"\"\n",
        "sam_file = \"/content/drive/My Drive/Colab Notebooks/test.sam\"\n",
        "estimator = AbundanceEstimator(sam_file)\n",
        "estimator.em_algorithm()\n",
        "print(dict(estimator.strain_abundance))"
      ],
      "metadata": {
        "colab": {
          "base_uri": "https://localhost:8080/"
        },
        "id": "2i23IyBdcQ_y",
        "outputId": "e3d5ea27-1ede-40cb-d39f-3622331547ef"
      },
      "execution_count": 7,
      "outputs": [
        {
          "output_type": "stream",
          "name": "stdout",
          "text": [
            "{'CHROMOSOME_II': 0.2, 'CHROMOSOME_I': 0.4, 'CHROMOSOME_IV': 0.2, 'CHROMOSOME_V': 0.2}\n"
          ]
        }
      ]
    },
    {
      "cell_type": "markdown",
      "source": [
        "Re-Assignment of reads"
      ],
      "metadata": {
        "id": "QPKAzNnNjoUX"
      }
    },
    {
      "cell_type": "code",
      "source": [
        "import heapq\n",
        "import math\n",
        "\n",
        "class MoraAssignment:\n",
        "    def __init__(self, references, reads):\n",
        "        self.references = references  # dictionary referenci i abundance\n",
        "        self.reads = reads  # dictionary ocitanjna i mogucih poravnanja\n",
        "        self.assignments = {ref: [] for ref in references}  # odabrana poravnanja ocitanja na reference\n",
        "        self.reference_capacity = {ref: math.ceil(references[ref] * len(self.reads)) for ref in references} #kapacitet svake reference\n",
        "        #print(self.reference_capacity)\n",
        "\n",
        "    def calculate_priority(self, read_id):\n",
        "        # Reference sortirane od best to worst\n",
        "        read_mappings = sorted(self.reads[read_id])\n",
        "        print(read_mappings)\n",
        "        best_score = read_mappings[0][1]\n",
        "        if len(read_mappings) == 1: #Postoji samo jedno poravnanje\n",
        "            return 1\n",
        "        second_best_score = read_mappings[1][1]\n",
        "        if second_best_score / best_score < 0.5: # ratio of the second best score to the best score is less than a threshold - inicijalno 0.5 ali staviti da se moze prilagoditi\n",
        "            return 2\n",
        "        return 3  # ostalo\n",
        "\n",
        "    def assign_read(self, read_id, priority):\n",
        "        read_mappings = self.reads[read_id]\n",
        "        if priority == 1:\n",
        "            # Priority 1: ide na jedinu mapiranu referencu\n",
        "            ref, score = read_mappings[0]\n",
        "            if self.reference_capacity[ref] > 0:\n",
        "                self.assignments[ref].append((read_id, score))\n",
        "                self.reference_capacity[ref] -= 1\n",
        "            return True\n",
        "        elif priority == 2:\n",
        "            # Priority 2: reads are sorted and then assigned to the reference with the best mapping score if that reference has space. If the reference is at full capacity, the read is relabeled as a priority 3 read\n",
        "            read_mappings.sort(key=lambda x: -x[1])\n",
        "            for ref, score in read_mappings:\n",
        "                if self.reference_capacity[ref] > 0:\n",
        "                    self.assignments[ref].append((read_id, score))\n",
        "                    self.reference_capacity[ref] -= 1\n",
        "                    return True\n",
        "            return False\n",
        "        elif priority == 3:\n",
        "            # Priority 3: assigned to best possible reference or left over for a second round of assignment if all of its potential references are full\n",
        "            read_mappings.sort(key=lambda x: -x[1])  # Sort by score (descending)\n",
        "            for ref, score in read_mappings:\n",
        "                if self.reference_capacity[ref] > 0:\n",
        "                    self.assignments[ref].append((read_id, score))\n",
        "                    self.reference_capacity[ref] -= 1\n",
        "                    return True\n",
        "            return False\n",
        "\n",
        "    def reassign_read(self, read_id):\n",
        "        # Mora will try to “open up space” in a reference to assign leftover reads.\n",
        "        read_mappings = self.reads[read_id]\n",
        "        for ref, score in read_mappings:\n",
        "            if len(self.assignments[ref]) > 0:\n",
        "                for assigned_read, assigned_score in self.assignments[ref]:\n",
        "                    if assigned_score < score:  # Mice read sa manjim AS\n",
        "                        for new_ref, new_score in self.reads[assigned_read]:\n",
        "                            if self.reference_capacity[new_ref] > 0:\n",
        "                                self.assignments[new_ref].append((assigned_read, assigned_score))\n",
        "                                self.assignments[ref].remove((assigned_read, assigned_score))\n",
        "                                self.reference_capacity[ref] += 1\n",
        "                                print(self.reference_capacity)\n",
        "                                self.reference_capacity[new_ref] -= 1\n",
        "                                print(self.reference_capacity)\n",
        "                                self.assignments[ref].append((read_id, score))\n",
        "                                return True\n",
        "        return False\n",
        "\n",
        "    def assign_reads(self):\n",
        "        # 1. odredi prioritet\n",
        "        for read_id in self.reads:\n",
        "            priority = self.calculate_priority(read_id)\n",
        "            if not self.assign_read(read_id, priority):\n",
        "                # Preraspodjela za kada nema kapaciteta\n",
        "                self.reassign_read(read_id)\n",
        "\n",
        "\n",
        "mora = MoraAssignment(estimator.strain_abundance, dict(estimator.read_assignments))\n",
        "mora.assign_reads()\n",
        "\n",
        "print(mora.assignments)\n"
      ],
      "metadata": {
        "colab": {
          "base_uri": "https://localhost:8080/"
        },
        "id": "y2D7JaGX09Ej",
        "outputId": "96da6622-16de-4c0d-83f7-fd293629c4c1"
      },
      "execution_count": 8,
      "outputs": [
        {
          "output_type": "stream",
          "name": "stdout",
          "text": [
            "[('CHROMOSOME_II', 180)]\n",
            "[('CHROMOSOME_I', 180)]\n",
            "[('CHROMOSOME_IV', 180)]\n",
            "[('CHROMOSOME_I', 180)]\n",
            "[('CHROMOSOME_V', 180)]\n",
            "{'CHROMOSOME_II': [('II.14978392', 180)], 'CHROMOSOME_I': [('III', 180), ('V', 180)], 'CHROMOSOME_IV': [('IV', 180)], 'CHROMOSOME_V': [('VI', 180)]}\n"
          ]
        }
      ]
    },
    {
      "cell_type": "code",
      "source": [
        "result = \"\"\n",
        "for reference, reads in mora.assignments.items():\n",
        "    for read, score in reads:\n",
        "        result += f\"{read}\\t{reference}\\n\"\n",
        "\n",
        "result += no_alignment\n",
        "print(result)"
      ],
      "metadata": {
        "colab": {
          "base_uri": "https://localhost:8080/"
        },
        "id": "KdWEQY-Doxfz",
        "outputId": "70e7856a-7c04-4886-b066-43d7f3fc5878"
      },
      "execution_count": 9,
      "outputs": [
        {
          "output_type": "stream",
          "name": "stdout",
          "text": [
            "II.14978392\tCHROMOSOME_II\n",
            "III\tCHROMOSOME_I\n",
            "V\tCHROMOSOME_I\n",
            "IV\tCHROMOSOME_IV\n",
            "VI\tCHROMOSOME_V\n",
            "\n"
          ]
        }
      ]
    }
  ]
}